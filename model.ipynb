{
 "cells": [
  {
   "cell_type": "code",
   "execution_count": 22,
   "metadata": {},
   "outputs": [],
   "source": [
    "from PIL import Image\n",
    "\n",
    "# Load the image\n",
    "image_path = \"assignment.jpg\"\n",
    "image = Image.open(image_path).convert(\"RGB\")\n",
    "\n",
    "# Define the outpainting function\n",
    "def outpaint(image, padding=128):\n",
    "    width, height = image.size\n",
    "    new_width = width + 2 * padding\n",
    "    new_height = height + 2 * padding\n",
    "    new_image = Image.new(\"RGB\", (new_width, new_height), (255, 255, 255))\n",
    "    new_image.paste(image, (padding, padding))\n",
    "    return new_image\n",
    "\n",
    "# Outpaint the image\n",
    "outpainted_image = outpaint(image, padding=128)\n",
    "\n",
    "# Display the outpainted image\n",
    "outpainted_image.show()\n"
   ]
  },
  {
   "cell_type": "code",
   "execution_count": 23,
   "metadata": {},
   "outputs": [
    {
     "name": "stderr",
     "output_type": "stream",
     "text": [
      "text_encoder\\model.safetensors not found\n",
      "Loading pipeline components...:   0%|          | 0/7 [00:00<?, ?it/s]An error occurred while trying to fetch C:\\Users\\Dharshan\\.cache\\huggingface\\hub\\models--runwayml--stable-diffusion-inpainting\\snapshots\\51388a731f57604945fddd703ecb5c50e8e7b49d\\vae: Error no file named diffusion_pytorch_model.safetensors found in directory C:\\Users\\Dharshan\\.cache\\huggingface\\hub\\models--runwayml--stable-diffusion-inpainting\\snapshots\\51388a731f57604945fddd703ecb5c50e8e7b49d\\vae.\n",
      "Defaulting to unsafe serialization. Pass `allow_pickle=False` to raise an error instead.\n",
      "Loading pipeline components...:  14%|█▍        | 1/7 [00:00<00:02,  2.34it/s]An error occurred while trying to fetch C:\\Users\\Dharshan\\.cache\\huggingface\\hub\\models--runwayml--stable-diffusion-inpainting\\snapshots\\51388a731f57604945fddd703ecb5c50e8e7b49d\\unet: Error no file named diffusion_pytorch_model.safetensors found in directory C:\\Users\\Dharshan\\.cache\\huggingface\\hub\\models--runwayml--stable-diffusion-inpainting\\snapshots\\51388a731f57604945fddd703ecb5c50e8e7b49d\\unet.\n",
      "Defaulting to unsafe serialization. Pass `allow_pickle=False` to raise an error instead.\n",
      "Loading pipeline components...: 100%|██████████| 7/7 [00:05<00:00,  1.33it/s]\n",
      "100%|██████████| 50/50 [08:50<00:00, 10.61s/it]\n"
     ]
    }
   ],
   "source": [
    "import torch\n",
    "from diffusers import StableDiffusionInpaintPipeline\n",
    "\n",
    "# Load the Stable Diffusion inpainting model\n",
    "model_id = \"runwayml/stable-diffusion-inpainting\"\n",
    "device = \"cuda\" if torch.cuda.is_available() else \"cpu\"\n",
    "\n",
    "pipe = StableDiffusionInpaintPipeline.from_pretrained(model_id)\n",
    "pipe = pipe.to(device)\n",
    "\n",
    "# Define a function to convert the image to the correct format for the pipeline\n",
    "def prepare_image(image):\n",
    "    return image.resize((512, 512))\n",
    "\n",
    "# Convert the image\n",
    "prepared_image = prepare_image(outpainted_image)\n",
    "\n",
    "prompt = (\n",
    "    \"Extend the scene with the same whimsical, magical style. \"\n",
    "    \"The image shows a boy steering a ship, looking at a floating island with animals and stars in the night sky. \"\n",
    "    \"Add more stars, mystical elements to the sky, extend the ocean, and include more magical creatures on the island. \"\n",
    "    \"Maintain the same color palette and artistic style. Ensure the extension captures the fine details, \"\n",
    ")\n",
    "# Perform inpainting\n",
    "result = pipe(\n",
    "    image=prepared_image,\n",
    "    prompt=prompt,\n",
    "    mask_image=prepared_image,\n",
    "    guidance_scale=17,\n",
    "    num_inference_steps=50,\n",
    ").images[0]\n",
    "\n",
    "# Display the result\n",
    "result.show()\n"
   ]
  },
  {
   "cell_type": "code",
   "execution_count": null,
   "metadata": {},
   "outputs": [],
   "source": []
  }
 ],
 "metadata": {
  "kernelspec": {
   "display_name": "pytorch",
   "language": "python",
   "name": "python3"
  },
  "language_info": {
   "codemirror_mode": {
    "name": "ipython",
    "version": 3
   },
   "file_extension": ".py",
   "mimetype": "text/x-python",
   "name": "python",
   "nbconvert_exporter": "python",
   "pygments_lexer": "ipython3",
   "version": "3.8.19"
  }
 },
 "nbformat": 4,
 "nbformat_minor": 2
}
